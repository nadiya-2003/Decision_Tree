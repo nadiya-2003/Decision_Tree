{
  "nbformat": 4,
  "nbformat_minor": 0,
  "metadata": {
    "colab": {
      "provenance": []
    },
    "kernelspec": {
      "name": "python3",
      "display_name": "Python 3"
    },
    "language_info": {
      "name": "python"
    }
  },
  "cells": [
    {
      "cell_type": "code",
      "execution_count": 3,
      "metadata": {
        "id": "kn76nFamnqAc"
      },
      "outputs": [],
      "source": [
        "import pandas as pd\n",
        "from sklearn.model_selection import train_test_split\n",
        "from sklearn.preprocessing import LabelEncoder\n",
        "from sklearn.tree import DecisionTreeClassifier\n",
        "from sklearn.metrics import classification_report, confusion_matrix, accuracy_score\n",
        "df = pd.read_csv(\"diabetes_prediction_dataset.csv\")"
      ]
    },
    {
      "cell_type": "code",
      "source": [
        "from sklearn.preprocessing import LabelEncoder\n",
        "\n",
        "label_encoders = {}\n",
        "for col in ['gender', 'smoking_history']:\n",
        "    le = LabelEncoder()\n",
        "    df[col] = le.fit_transform(df[col])\n",
        "    label_encoders[col] = le\n"
      ],
      "metadata": {
        "id": "xLYRA4-Irb0D"
      },
      "execution_count": 7,
      "outputs": []
    },
    {
      "cell_type": "code",
      "source": [
        "from sklearn.model_selection import train_test_split\n",
        "# Define features (X) and target (y)\n",
        "X = df.drop(columns=['diabetes'])\n",
        "y = df['diabetes']\n",
        "\n",
        "# Split the data into training and testing sets\n",
        "X_train, X_test, y_train, y_test = train_test_split(\n",
        "    X, y, test_size=0.2, random_state=42\n",
        ")\n"
      ],
      "metadata": {
        "id": "lcvb6YPTsFdL"
      },
      "execution_count": 9,
      "outputs": []
    },
    {
      "cell_type": "code",
      "source": [
        "df = df.dropna(subset=['diabetes'])\n",
        "\n",
        "# Build and train the Decision Tree model\n",
        "cart_model = DecisionTreeClassifier(criterion='gini', random_state=42)\n",
        "cart_model.fit(X_train, y_train)\n",
        "\n",
        "# Make predictions\n",
        "y_pred = cart_model.predict(X_test)"
      ],
      "metadata": {
        "id": "zUIMSpMOsj-k"
      },
      "execution_count": 13,
      "outputs": []
    },
    {
      "cell_type": "code",
      "source": [
        "print(\"Accuracy:\", accuracy_score(y_test, y_pred))\n",
        "print(\"\\nConfusion Matrix:\\n\", confusion_matrix(y_test, y_pred))\n",
        "print(\"\\nClassification Report:\\n\", classification_report(y_test, y_pred))\n"
      ],
      "metadata": {
        "colab": {
          "base_uri": "https://localhost:8080/"
        },
        "id": "AUEnqIp0tD1c",
        "outputId": "b5ed6b61-95f6-4578-b68a-dc61fa3b7108"
      },
      "execution_count": 15,
      "outputs": [
        {
          "output_type": "stream",
          "name": "stdout",
          "text": [
            "Accuracy: 0.95245\n",
            "\n",
            "Confusion Matrix:\n",
            " [[17788   504]\n",
            " [  447  1261]]\n",
            "\n",
            "Classification Report:\n",
            "               precision    recall  f1-score   support\n",
            "\n",
            "           0       0.98      0.97      0.97     18292\n",
            "           1       0.71      0.74      0.73      1708\n",
            "\n",
            "    accuracy                           0.95     20000\n",
            "   macro avg       0.84      0.86      0.85     20000\n",
            "weighted avg       0.95      0.95      0.95     20000\n",
            "\n"
          ]
        }
      ]
    }
  ]
}